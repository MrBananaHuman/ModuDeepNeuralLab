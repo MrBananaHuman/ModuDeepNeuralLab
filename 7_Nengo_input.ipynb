{
 "cells": [
  {
   "cell_type": "markdown",
   "metadata": {},
   "source": [
    "# 0. 1초마다 입력"
   ]
  },
  {
   "cell_type": "code",
   "execution_count": null,
   "metadata": {},
   "outputs": [],
   "source": [
    "!pip3 install nengo\n",
    "!pip3 install matplotlib"
   ]
  },
  {
   "cell_type": "code",
   "execution_count": null,
   "metadata": {},
   "outputs": [],
   "source": [
    "import numpy as np\n",
    "import matplotlib.pyplot as plt\n",
    "%matplotlib inline\n",
    " \n",
    "import nengo\n",
    "from nengo.dists import Choice\n",
    "from nengo.utils.ensemble import tuning_curves\n",
    "from nengo.utils.matplotlib import rasterplot"
   ]
  },
  {
   "cell_type": "code",
   "execution_count": null,
   "metadata": {},
   "outputs": [],
   "source": [
    "def input_one_hot(t):\n",
    "    if(t % 1 == 0):\n",
    "        return 1\n",
    "    else:\n",
    "        return 0"
   ]
  },
  {
   "cell_type": "code",
   "execution_count": null,
   "metadata": {},
   "outputs": [],
   "source": [
    "model = nengo.Network()\n",
    "\n",
    "with model:\n",
    "    input_node = nengo.Node(output=input_one_hot)\n",
    "    pre_neuron = nengo.Ensemble(1, dimensions=1, max_rates = [100] * 1, intercepts=[0] * 1, radius=10)\n",
    "    pre_neuron.encoders = Choice([[1]])\n",
    "    \n",
    "    nengo.Connection(input_node, pre_neuron)\n",
    " \n",
    "    post_neuron = nengo.Ensemble(1, dimensions=1, max_rates = [90] * 1, intercepts=[0] * 1)\n",
    "    post_neuron.encoders = Choice([[1]])\n",
    "        \n",
    "    nengo.Connection(pre_neuron, post_neuron, transform=1, synapse=0.02)\n",
    "    \n",
    "    input_p = nengo.Probe(input_node)\n",
    "    pre_p = nengo.Probe(pre_neuron.neurons, 'voltage')\n",
    "    post_p = nengo.Probe(post_neuron.neurons, 'voltage')\n",
    "    pre_spike_p = nengo.Probe(pre_neuron.neurons)\n",
    "    post_spike_p = nengo.Probe(post_neuron.neurons)"
   ]
  },
  {
   "cell_type": "code",
   "execution_count": null,
   "metadata": {},
   "outputs": [],
   "source": [
    "with nengo.Simulator(model) as sim: # this is the only line that changes\n",
    "    plt.figure()\n",
    "    plt.plot(*tuning_curves(pre_neuron, sim))\n",
    "    plt.plot(*tuning_curves(post_neuron, sim))\n",
    "    plt.xlabel(\"input value\")\n",
    "    plt.ylabel(\"firing rate\")\n",
    "    plt.xlim(-1, 1)\n",
    "    plt.title(str(nengo.LIF()))\n",
    "    sim.run(5.0)"
   ]
  },
  {
   "cell_type": "code",
   "execution_count": null,
   "metadata": {},
   "outputs": [],
   "source": [
    "with nengo.Simulator(model) as sim: # this is the only line that changes\n",
    "    plt.figure()\n",
    "    plt.plot(*tuning_curves(pre_neuron, sim))\n",
    "    plt.plot(*tuning_curves(post_neuron, sim))\n",
    "    plt.xlabel(\"input value\")\n",
    "    plt.ylabel(\"firing rate\")\n",
    "    plt.title(str(nengo.LIF()))\n",
    "    sim.run(5.0)"
   ]
  },
  {
   "cell_type": "code",
   "execution_count": null,
   "metadata": {},
   "outputs": [],
   "source": [
    "with nengo.Simulator(model) as sim:\n",
    "    sim.run(10.0)"
   ]
  },
  {
   "cell_type": "code",
   "execution_count": null,
   "metadata": {},
   "outputs": [],
   "source": [
    "plt.figure(figsize=(12, 10))\n",
    "\n",
    "plt.subplot(3, 1, 1)\n",
    "plt.plot(sim.trange(), sim.data[input_p])\n",
    "plt.ylim(0, 2)\n",
    "plt.xlim(0, 10)\n",
    "\n",
    "plt.subplot(3, 1, 2)\n",
    "rasterplot(sim.trange(), sim.data[pre_spike_p])\n",
    "plt.xlim(0, 10)\n",
    "\n",
    "plt.subplot(3, 1, 3)\n",
    "rasterplot(sim.trange(), sim.data[post_spike_p])\n",
    "plt.xlim(0, 10)"
   ]
  },
  {
   "cell_type": "code",
   "execution_count": null,
   "metadata": {},
   "outputs": [],
   "source": [
    "plt.figure(figsize=(12, 10))\n",
    "\n",
    "plt.subplot(3, 1, 1)\n",
    "plt.plot(sim.trange(), sim.data[input_p])\n",
    "plt.xlim(0, 10)\n",
    "\n",
    "plt.subplot(3, 1, 2)\n",
    "plt.plot(sim.trange(), sim.data[pre_p])\n",
    "plt.xlim(0, 10)\n",
    "\n",
    "plt.subplot(3, 1, 3)\n",
    "plt.plot(sim.trange(), sim.data[post_p])\n",
    "plt.xlim(0, 10)"
   ]
  },
  {
   "cell_type": "markdown",
   "metadata": {},
   "source": [
    "# 1. 음성 데이터 입력"
   ]
  },
  {
   "cell_type": "code",
   "execution_count": null,
   "metadata": {},
   "outputs": [],
   "source": [
    "pip install numba==0.50.0 librosa==0.5.1"
   ]
  },
  {
   "cell_type": "code",
   "execution_count": null,
   "metadata": {
    "scrolled": false
   },
   "outputs": [],
   "source": [
    "import librosa\n",
    "import librosa.display\n",
    "import IPython.display\n",
    "import numpy as np\n",
    "import matplotlib.pyplot as plt\n",
    "import matplotlib as mpl\n",
    "import matplotlib.font_manager as fm\n",
    "  \n",
    "%matplotlib inline\n",
    " \n",
    "audio_path = '4_3273.wav'\n",
    " \n",
    "y, sr = librosa.load(audio_path)\n",
    " \n",
    "plt.figure()\n",
    "plt.plot(y)"
   ]
  },
  {
   "cell_type": "code",
   "execution_count": null,
   "metadata": {},
   "outputs": [],
   "source": [
    "time_duration = int(librosa.get_duration(y=y, sr=sr) * 1000)\n",
    "data_length = y.shape[0]\n",
    "print(\"time duration: \" + str(time_duration) + \" ms\")\n",
    "print(\"sampling rate: \" + str(sr))\n",
    "print(\"data length: \" + str(data_length))"
   ]
  },
  {
   "cell_type": "code",
   "execution_count": null,
   "metadata": {},
   "outputs": [],
   "source": [
    "def voice_input(t):\n",
    "    ms = t * 1000\n",
    "    voice = y[int((data_length / time_duration) * int(ms))]\n",
    "    return voice"
   ]
  },
  {
   "cell_type": "code",
   "execution_count": null,
   "metadata": {},
   "outputs": [],
   "source": [
    "model = nengo.Network()\n",
    "\n",
    "with model:\n",
    "    voice = nengo.Node(voice_input)\n",
    "    A = nengo.Ensemble(80, dimensions=1)\n",
    "    nengo.Connection(voice, A, synapse=0.01)\n",
    "    \n",
    "    p = nengo.Probe(A, synapse=0.01)\n",
    "    inp_p = nengo.Probe(voice)\n",
    "    spike_p = nengo.Probe(A.neurons)\n",
    "    voltage_p = nengo.Probe(A.neurons, 'voltage')"
   ]
  },
  {
   "cell_type": "code",
   "execution_count": null,
   "metadata": {},
   "outputs": [],
   "source": [
    "with nengo.Simulator(model) as sim:\n",
    "    sim.run(int(time_duration-1) / 1000)"
   ]
  },
  {
   "cell_type": "code",
   "execution_count": null,
   "metadata": {
    "scrolled": true
   },
   "outputs": [],
   "source": [
    "plt.figure()\n",
    "plt.plot(sim.trange(), sim.data[inp_p], 'r', label=\"Input\")\n",
    "plt.plot(sim.trange(), sim.data[p], label=\"A output\")\n",
    "plt.xlim(0, 5)\n",
    "plt.legend()\n",
    " \n",
    "plt.figure()\n",
    "rasterplot(sim.trange(), sim.data[spike_p])\n",
    "plt.xlim(0, 5);"
   ]
  },
  {
   "cell_type": "markdown",
   "metadata": {},
   "source": [
    "# 2. Image 입력"
   ]
  },
  {
   "cell_type": "code",
   "execution_count": null,
   "metadata": {},
   "outputs": [],
   "source": [
    "%matplotlib inline\n",
    " \n",
    "import gzip\n",
    "import pickle\n",
    "from urllib.request import urlretrieve\n",
    "import zipfile\n",
    " \n",
    "import nengo\n",
    "import numpy as np\n",
    "import matplotlib.pyplot as plt\n",
    "from nengo.dists import Choice\n",
    "from nengo.utils.ensemble import tuning_curves\n",
    "from nengo.utils.matplotlib import rasterplot\n",
    " \n",
    "urlretrieve(\"http://deeplearning.net/data/mnist/mnist.pkl.gz\", \"mnist.pkl.gz\")\n",
    "with gzip.open(\"mnist.pkl.gz\") as f:\n",
    "    train_data, _, test_data = pickle.load(f, encoding=\"latin1\")\n",
    "train_data = list(train_data)\n",
    "test_data = list(test_data)"
   ]
  },
  {
   "cell_type": "code",
   "execution_count": null,
   "metadata": {},
   "outputs": [],
   "source": [
    "data = train_data\n",
    "print(data[0].shape)#  784개의 값을 가지는 array 50000개\n",
    "print(data[0].shape[0])"
   ]
  },
  {
   "cell_type": "code",
   "execution_count": null,
   "metadata": {},
   "outputs": [],
   "source": [
    "one_hot = np.zeros((data[0].shape[0], 10)) # one_hot.shpae = (50000, 10) --> 10개의 데이터 값을 가지는 array 50000개가 0으로 초기화"
   ]
  },
  {
   "cell_type": "code",
   "execution_count": null,
   "metadata": {},
   "outputs": [],
   "source": [
    "for data in (train_data, test_data):\n",
    "    one_hot = np.zeros((data[0].shape[0], 10))\n",
    "    one_hot[np.arange(data[0].shape[0]), data[1]] = 1\n",
    "    data[1] = one_hot\n",
    " \n",
    "for i in range(3):\n",
    "    plt.figure()\n",
    "    plt.imshow(np.reshape(train_data[0][i], (28, 28)))\n",
    "    plt.axis('off')\n",
    "    plt.title(str(np.argmax(train_data[1][i])));"
   ]
  },
  {
   "cell_type": "code",
   "execution_count": null,
   "metadata": {},
   "outputs": [],
   "source": [
    "cnt = 0"
   ]
  },
  {
   "cell_type": "code",
   "execution_count": null,
   "metadata": {},
   "outputs": [],
   "source": [
    "def image_input(t):\n",
    "    global cnt\n",
    "    ms = t * 1000\n",
    "    img = train_data[0][cnt]\n",
    "    cnt += 1\n",
    "    return img"
   ]
  },
  {
   "cell_type": "code",
   "execution_count": null,
   "metadata": {},
   "outputs": [],
   "source": [
    "model = nengo.Network()\n",
    "\n",
    "with model:\n",
    "    input_node = nengo.Node(image_input)\n",
    "    \n",
    "    pre_neuron = nengo.Ensemble(784, dimensions=1)\n",
    "    pre_neuron.encoders = Choice([[1]])\n",
    "    \n",
    "    nengo.Connection(input_node, pre_neuron)\n",
    " \n",
    "    post_neuron = nengo.Ensemble(784, dimensions=1)\n",
    "    post_neuron.encoders = Choice([[1]])\n",
    "        \n",
    "    nengo.Connection(pre_neuron, post_neuron, transform=1, synapse=0.02)\n",
    "    \n",
    "    input_p = nengo.Probe(input_node)\n",
    "    pre_p = nengo.Probe(pre_neuron.neurons, 'voltage')\n",
    "    post_p = nengo.Probe(post_neuron.neurons, 'voltage')\n",
    "    pre_spike_p = nengo.Probe(pre_neuron.neurons)\n",
    "    post_spike_p = nengo.Probe(post_neuron.neurons)"
   ]
  },
  {
   "cell_type": "code",
   "execution_count": null,
   "metadata": {},
   "outputs": [],
   "source": [
    "with nengo.Simulator(model) as sim:\n",
    "    sim.run(10)"
   ]
  },
  {
   "cell_type": "code",
   "execution_count": null,
   "metadata": {},
   "outputs": [],
   "source": [
    "plt.figure(figsize=(12, 10))\n",
    "\n",
    "plt.subplot(2, 1, 1)\n",
    "rasterplot(sim.trange(), sim.data[pre_spike_p])\n",
    "plt.xlim(0, 10)\n",
    "\n",
    "plt.subplot(2, 1, 2)\n",
    "rasterplot(sim.trange(), sim.data[post_spike_p])\n",
    "plt.xlim(0, 10)"
   ]
  },
  {
   "cell_type": "code",
   "execution_count": null,
   "metadata": {},
   "outputs": [],
   "source": []
  }
 ],
 "metadata": {
  "kernelspec": {
   "display_name": "Python 3",
   "language": "python",
   "name": "python3"
  },
  "language_info": {
   "codemirror_mode": {
    "name": "ipython",
    "version": 3
   },
   "file_extension": ".py",
   "mimetype": "text/x-python",
   "name": "python",
   "nbconvert_exporter": "python",
   "pygments_lexer": "ipython3",
   "version": "3.6.9"
  }
 },
 "nbformat": 4,
 "nbformat_minor": 4
}
